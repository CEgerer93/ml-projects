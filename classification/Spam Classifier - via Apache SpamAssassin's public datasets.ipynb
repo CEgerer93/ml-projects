{
 "cells": [
  {
   "cell_type": "code",
   "execution_count": 1,
   "id": "789f0ab7",
   "metadata": {},
   "outputs": [],
   "source": [
    "import os\n",
    "import tarfile\n",
    "import urllib.request\n",
    "import pandas as pd\n",
    "\n",
    "ROOT = 'https://spamassassin.apache.org/old/publiccorpus/'\n",
    "HAM = ROOT + '20030228_easy_ham.tar.bz2'\n",
    "SPAM = ROOT + '20030228_spam.tar.bz2'\n",
    "PATH = os.path.join('apache-datasets','spam')\n",
    "\n",
    "def get_spam_n_ham(ham_url=HAM, spam_url=SPAM, path_to_data=PATH):\n",
    "    if not os.path.isdir(path_to_data):\n",
    "        os.makedirs(path_to_data)\n",
    "    for file, url in [('ham.tar.bz2', ham_url), ('spam.tar.bz2', spam_url)]:\n",
    "        path = os.path.join(path_to_data,file)\n",
    "        if not os.path.isfile(path):\n",
    "            # Download from url and place at path\n",
    "            print(\"Extracting from : %s\"%url)\n",
    "            urllib.request.urlretrieve(url, path)\n",
    "        tar_bz2 = tarfile.open(path)\n",
    "        tar_bz2.extractall(path=path_to_data)\n",
    "        tar_bz2.close()\n",
    "        \n",
    "        \n",
    "get_spam_n_ham()"
   ]
  },
  {
   "cell_type": "code",
   "execution_count": 2,
   "id": "143f4fbf",
   "metadata": {},
   "outputs": [],
   "source": [
    "# Spam/ham examples are named according to <message #>.<MD5 sum>\n",
    "\n",
    "# Set paths to spam and easy_ham\n",
    "HAMPATH = os.path.join(os.getcwd(),'apache-datasets','spam','easy_ham')\n",
    "SPAMPATH = os.path.join(os.getcwd(),'apache-datasets','spam','spam')\n",
    "\n",
    "# Access names of each easy_ham and spam message\n",
    "HAM = [os.path.join(HAMPATH,f) for f in os.listdir(HAMPATH) if os.path.isfile(os.path.join(HAMPATH,f)) and f != 'cmds']\n",
    "SPAM = [os.path.join(SPAMPATH,f) for f in os.listdir(SPAMPATH) if os.path.isfile(os.path.join(SPAMPATH,f)) and f != 'cmds']"
   ]
  },
  {
   "cell_type": "code",
   "execution_count": 3,
   "id": "d36d3d0f",
   "metadata": {},
   "outputs": [
    {
     "data": {
      "text/plain": [
       "(2500, 500)"
      ]
     },
     "execution_count": 3,
     "metadata": {},
     "output_type": "execute_result"
    }
   ],
   "source": [
    "len(HAM), len(SPAM)"
   ]
  },
  {
   "cell_type": "code",
   "execution_count": 4,
   "id": "4f1cd41e",
   "metadata": {},
   "outputs": [],
   "source": [
    "# Using the email module, define a function to parse the email messages\n",
    "import email\n",
    "from email import policy\n",
    "from email.parser import BytesParser\n",
    "\n",
    "def read_email(email):\n",
    "    # Read the email file\n",
    "    with open(email, 'rb') as file:\n",
    "        # Parse the email content\n",
    "        return BytesParser(policy=policy.default).parse(file)"
   ]
  },
  {
   "cell_type": "code",
   "execution_count": 5,
   "id": "3574b8d9",
   "metadata": {},
   "outputs": [],
   "source": [
    "# Read all the spam and ham emails\n",
    "emails_ham = [read_email(e) for e in HAM]\n",
    "emails_spam = [read_email(e) for e in SPAM]"
   ]
  },
  {
   "cell_type": "code",
   "execution_count": 6,
   "id": "05779935",
   "metadata": {},
   "outputs": [
    {
     "data": {
      "text/plain": [
       "\"On a RH 8 box, I'm trying to install your package\\nxine-0.9.13-fr5.i386.rpm, I keep running into dependency problems.  I've\\ntried to install the dev and lib rpm's as well and they error out with\\ndependency problems on each other (they each want something from the\\nother's package).\\n\\nI've tried the --without options, but still end up with (similar for the\\nregular package),\\n\\n\\tglut is needed by xine-libs-0.9.13-fr5\\n        aalib is needed by xine-libs-0.9.13-fr5\\n        lirc is needed by xine-libs-0.9.13-fr5\\n        libaa.so.1 is needed by xine-libs-0.9.13-fr5\\n        libglut.so.3 is needed by xine-libs-0.9.13-fr5\\n\\nWhat am I missing here?\\n\\nThanks for your efforts.\\nQuaffAPint\\n\\n\\n\\n\\n\\n\\n_______________________________________________\\nRPM-List mailing list <RPM-List@freshrpms.net>\\nhttp://lists.freshrpms.net/mailman/listinfo/rpm-list\""
      ]
     },
     "execution_count": 6,
     "metadata": {},
     "output_type": "execute_result"
    }
   ],
   "source": [
    "# Peek at a ham email (removing leading/trailing whitespace)\n",
    "emails_ham[0].get_content().strip()"
   ]
  },
  {
   "cell_type": "code",
   "execution_count": 7,
   "id": "280c7283",
   "metadata": {},
   "outputs": [
    {
     "data": {
      "text/plain": [
       "'Earn Extra Income From Home. Here is tremendous\\nopportunity to earn big money. We are a multimillion\\ncompany that is growing at a rate of 1000% per year.\\nWe are looking for motivated individuals who are\\nlooking to earn a substantial income from home.\\n\\nThis is what you been waiting for a chance to be\\nfinancially secure.  Earn Extra Income From Home. Here\\nis a tremendous opportunity to earn\\n No experience is required. We will provide the\\ntraining you may need. \\n\\nWe are looking for energetic and self- motivated\\npeople that want to change their life. If that is you\\nclick the link below and complete our online\\ninformation request form, and one of our employment\\nspecialist will contact you.\\n\\nhttp://ter.netblah.com:27000\\n\\nGot nothing to lose and a lot to gain, with a career\\nthat will provide you cast opportunities and\\nsubstantial income. Please fill our online information\\nrequest form here:\\n\\nhttp://ter.netblah.com:27000\\n\\nTo remove from our list simply click on the link below\\nnow:\\n\\nhttp://ter.netblah.com:27000/remove.html\\n \\n\\n \\n\\n9986dxkU6-303JWSp0699MAYXl24'"
      ]
     },
     "execution_count": 7,
     "metadata": {},
     "output_type": "execute_result"
    }
   ],
   "source": [
    "# Peek at a spam email (removing leading/trailing whitespace)\n",
    "emails_spam[1].get_content().strip()"
   ]
  },
  {
   "cell_type": "code",
   "execution_count": 8,
   "id": "2c045049",
   "metadata": {},
   "outputs": [
    {
     "name": "stdout",
     "output_type": "stream",
     "text": [
      "multipart/signed\n",
      "[<email.message.EmailMessage object at 0x7fcf3ef18c70>, <email.message.EmailMessage object at 0x7fcf3ef18bb0>]\n",
      "text/plain\n",
      "application/pgp-signature\n"
     ]
    }
   ],
   "source": [
    "# Demonstrate utility of get_payload() and get_content_type()\n",
    "print(emails_ham[1].get_content_type()) # email is a multipart/signed\n",
    "print(emails_ham[1].get_payload()) # list of each EmailMessage object comprising multipart/signed email\n",
    "print(emails_ham[1].get_payload(0).get_content_type()) # content_type of first EmailMessage object\n",
    "print(emails_ham[1].get_payload(1).get_content_type())"
   ]
  },
  {
   "cell_type": "code",
   "execution_count": 9,
   "id": "76cb72e5",
   "metadata": {},
   "outputs": [
    {
     "name": "stdout",
     "output_type": "stream",
     "text": [
      "text/plain                                                                                                                   2408\n",
      "multipart(text/plain, application/pgp-signature)                                                                               66\n",
      "multipart(text/plain, text/html)                                                                                                8\n",
      "multipart(text/plain, text/plain)                                                                                               4\n",
      "multipart(text/plain)                                                                                                           3\n",
      "multipart(text/plain, application/octet-stream)                                                                                 2\n",
      "multipart(text/plain, application/x-pkcs7-signature)                                                                            1\n",
      "multipart(text/plain, video/mng)                                                                                                1\n",
      "multipart(text/plain, application/x-java-applet)                                                                                1\n",
      "multipart(text/plain, multipart(text/plain, text/plain), text/rfc822-headers)                                                   1\n",
      "multipart(multipart(text/plain, text/plain, text/plain), application/pgp-signature)                                             1\n",
      "multipart(text/plain, multipart(text/plain, text/plain), multipart(multipart(text/plain, application/x-pkcs7-signature)))       1\n",
      "multipart(text/plain, application/ms-tnef, text/plain)                                                                          1\n",
      "multipart(text/plain, text/enriched)                                                                                            1\n",
      "multipart(text/plain, multipart(text/plain))                                                                                    1\n",
      "Name: count, dtype: int64\n",
      "text/plain                                                               218\n",
      "text/html                                                                183\n",
      "multipart(text/plain, text/html)                                          45\n",
      "multipart(text/html)                                                      20\n",
      "multipart(text/plain)                                                     19\n",
      "multipart(multipart(text/html))                                            5\n",
      "multipart(text/plain, image/jpeg)                                          3\n",
      "multipart(text/html, application/octet-stream)                             2\n",
      "multipart(text/html, text/plain)                                           1\n",
      "multipart(multipart(text/html), application/octet-stream, image/jpeg)      1\n",
      "multipart(multipart(text/plain, text/html), image/gif)                     1\n",
      "multipart/alternative                                                      1\n",
      "multipart(text/plain, application/octet-stream)                            1\n",
      "Name: count, dtype: int64\n"
     ]
    }
   ],
   "source": [
    "# Some emails are more than just text...\n",
    "# Namely, emails_spam[1].get_content().strip() returns: \"KeyError: 'multipart/mixed'\"\n",
    "\n",
    "# Use get_payload() to return:\n",
    "#   - list of email.message.EmailMessage objects when is_multipart()=True\n",
    "#   - or a string when is_multipart()=False\n",
    "\n",
    "# Define a function to determine an email's structure\n",
    "def email_structure(email):\n",
    "    # Immediately return if email is a simple string\n",
    "    if isinstance(email, str):\n",
    "        return email\n",
    "    # Otherwise, use get_payload() to determine message parts\n",
    "    components = email.get_payload()\n",
    "    \n",
    "    # Recursively call email_structure() and determine content_type of each piece of multipart\n",
    "    if isinstance(components, list):\n",
    "        return 'multipart({})'.format(', '.join([email_structure(c) for c in components]))\n",
    "    else:\n",
    "        return email.get_content_type()\n",
    "        \n",
    "    \n",
    "# Collect the unique email structures for the ham and spam emails\n",
    "uniq_structures_ham = [email_structure(email) for email in emails_ham]\n",
    "uniq_structures_spam = [email_structure(email) for email in emails_spam]\n",
    "\n",
    "# Unique ham structures\n",
    "print(pd.Series(uniq_structures_ham).value_counts())\n",
    "# Unique spam structures\n",
    "print(pd.Series(uniq_structures_spam).value_counts())"
   ]
  },
  {
   "cell_type": "markdown",
   "id": "f9f0ff2b",
   "metadata": {},
   "source": [
    "# Observations\n",
    "- While both spam and ham emails are mostly represented as text/plain, each set contains multipart emails too\n",
    "- The multipart emails include\n",
    "    - videos\n",
    "    - images\n",
    "    - html\n",
    "    - etc.\n",
    "- Of note, some spam email messages are simple text/html, while no ham email is just html"
   ]
  },
  {
   "cell_type": "code",
   "execution_count": 10,
   "id": "ae4b6a27",
   "metadata": {},
   "outputs": [
    {
     "data": {
      "text/plain": [
       "\"*** FREE BONUS OFFER - SEE BELOW ***\\n\\nWe can supply TOP QUALITY, VIRTUALLY IDENTICAL REPLICAS of just about anything - from watches to wallets, from lighters to lingerie, clothing, accessories, even electrical goods. All your favorite designer labels reproduced at a fraction of the price.\\n\\nAll major Credit Cards accepted. Worldwide certified shipping. Quality guaranteed.\\n\\nWe are currently building our catalog so let us know that you want to receive notification when our on-line catalog is published later this month to qualify for a GREAT FREE BONUS OFFER.\\n\\n*** FREE BONUS: Register NOW for our catalog and receive one pair of designer REPLICA sunglasses (our regular price $15) & check out the quality of our goods FREE OF CHARGE ***\\n\\nFor more information email: replicas@fastnetspain.net\\n\\nRegister NOW to be sure you don't miss out !!!\\n\\n\\n\\n\\n\\n\\n\\n\\nTo remove from future mailings email: noreplicas@fastnetspain.net\\n\\nRegister NOW to be sure you don't miss out !!!\\n\\n\\n\\n\\n\\n\\n\\n\\n\\n\\n\\n\\n\\n\\n-- \\nIrish Linux Users' Group: ilug@linux.ie\\nhttp://www.linux.ie/mailman/listinfo/ilug for (un)subscription information.\\nList maintainer: listmaster@linux.ie\\n\\n\\n\""
      ]
     },
     "execution_count": 10,
     "metadata": {},
     "output_type": "execute_result"
    }
   ],
   "source": [
    "# emails_ham[0].keys()   : return list of all the message's header field names\n",
    "# emails_ham[0].values() : return list of all the message's field values\n",
    "# emails_ham[0].items()  : 2-tuples of keys/values of message's field headers and values\n",
    "\n",
    "class VerboseEmail:     \n",
    "    def set_email(self, email):\n",
    "        self.email=email\n",
    "        self.unixfrom=self.email.get_unixfrom()\n",
    "        self.contentType=self.email.get_content_type()\n",
    "        self.boundary=self.email.get_boundary()\n",
    "        self.items=self.email.items()\n",
    "        self._prefSuff_=' ---- '\n",
    "        return self\n",
    "    \n",
    "    def _unixfrom_(self):\n",
    "        return \"%sUNIXFROM%s\\n%s\\n\"%(self._prefSuff_, self._prefSuff_,\n",
    "                                    self.unixfrom)\n",
    "    \n",
    "    def _content_(self):\n",
    "        theContents=''\n",
    "        if self.email.is_multipart():\n",
    "            for part in self.email.walk():\n",
    "                ctype = part.get_content_type()\n",
    "                cdispo = str(part.get('Content-Disposition'))\n",
    "                \n",
    "                if ctype == 'text/plain' and 'attachment' not in cdispo:\n",
    "                    try:\n",
    "                        theContents = part.get_payload(decode=True).decode(encoding=part.get_content_charset(),\n",
    "                                                                           errors='ignore')\n",
    "                    # Catch encoding errors\n",
    "                    except:\n",
    "                        theContents = str(part.get_payload)\n",
    "        else:\n",
    "            try:\n",
    "                theContents = self.email.get_content()\n",
    "            # Catch encoding errors\n",
    "            except:\n",
    "                theContents = self.email.get_payload()\n",
    "        return str(theContents)\n",
    "    \n",
    "    def _boundary_(self):\n",
    "        return \"%sGET BOUNDARY%s\\n%s\\n\"%(self._prefSuff_, self._prefSuff_,\n",
    "                                        self.boundary)\n",
    "    \n",
    "    def _items_(self):\n",
    "        return \"%sITEMS%s\\n%s\\n\"%(self._prefSuff_, self._prefSuff_,\n",
    "                                 self.items)\n",
    "        \n",
    "    def info(self):\n",
    "        return print(self._unixfrom_()+\n",
    "                     '%sCONTENT [ %s ]%s\\n%s\\n'%(self._prefSuff_, self.contentType,\n",
    "                                                 self._prefSuff_,self._content_())+\n",
    "                    self._boundary_()+self._items_())\n",
    "    \n",
    "    def content(self):\n",
    "        return self._content_()\n",
    "\n",
    "vb=VerboseEmail()\n",
    "vb.set_email(emails_spam[291])\n",
    "# vb.info()\n",
    "vb.content()"
   ]
  },
  {
   "cell_type": "code",
   "execution_count": 11,
   "id": "3843db73",
   "metadata": {},
   "outputs": [],
   "source": [
    "################\n",
    "# BUILD UP A PIPELINE THAT CREATES FEATURES FROM THE EMAILS WITHIN EACH DATAFRAME\n",
    "################\n",
    "import re\n",
    "import numpy as np\n",
    "from sklearn.base import BaseEstimator, TransformerMixin\n",
    "\n",
    "class CleanEmail(BaseEstimator, TransformerMixin):\n",
    "    \"\"\"\n",
    "    Class to manage transforming a parsed email into a sparse vector for classification algorithms.\n",
    "    \n",
    "    Attributes\n",
    "    ----------\n",
    "    lowercase : bool\n",
    "        Convert email to lowercase\n",
    "    \n",
    "    stripHeader : bool\n",
    "        Remove email header\n",
    "    \n",
    "    punctuation : bool\n",
    "        Remove punctuation\n",
    "    \n",
    "    urlStamp : bool\n",
    "        Replace any URLs with 'URL'\n",
    "    \n",
    "    numStamp : bool\n",
    "        Replace any numbers with 'NUMBER'\n",
    "    \"\"\"\n",
    "    def __init__(self, cleanHtml=False, lowercase=False, numStamp=False, punctuation=False,\n",
    "                 stripHeader=False, urlStamp=False):\n",
    "        self.cleanHtml=cleanHtml\n",
    "        self.lowercase=lowercase\n",
    "        self.numStamp=numStamp\n",
    "        self.punctuation=punctuation\n",
    "        self.stripHeader=stripHeader\n",
    "        self.urlStamp=urlStamp\n",
    "        \n",
    "    def fit(self, X, y=None):\n",
    "        return self\n",
    "    \n",
    "    def transform(self, X):        \n",
    "        if self.cleanHtml:\n",
    "            bleach = re.compile('<.*?>')\n",
    "            X.Email = X.Email.apply(lambda x: re.sub(bleach, '', x))\n",
    "        if self.urlStamp:\n",
    "            X.Email = X.Email.apply(lambda x: re.sub(r'(https?://\\S+)', 'URL', x))\n",
    "        if self.punctuation:\n",
    "            # Remove [tabs/new lines, multiple spaces, punctuation, underscores]\n",
    "            for regex,fill in { r'[\\r\\n\\t]+': ' ', r'\\s+': ' ', r'[^\\w\\s]': '', r'_': ''}.items():\n",
    "                X.Email = X.Email.apply(lambda x: re.sub(regex, fill, x))\n",
    "        if self.numStamp:\n",
    "            X.Email = X.Email.apply(lambda x: re.sub(r'\\b\\d+\\b', 'NUM', x))\n",
    "        if self.lowercase:\n",
    "            lowercase = X.Email.apply(lambda x: x.lower())\n",
    "            X.Email = lowercase\n",
    "        else:\n",
    "            pass\n",
    "        \n",
    "        return X\n",
    "    \n",
    "class UniqueWords(BaseEstimator, TransformerMixin):\n",
    "    def __init__(self, on='', getUniq=True):\n",
    "        self.on=on\n",
    "        self.getUniq=getUniq\n",
    "        \n",
    "    def fit(self, X, y=None):\n",
    "        return self\n",
    "    \n",
    "    def transform(self, X):\n",
    "        # Unique words split on single spaces (ignoring empty strings)\n",
    "        uniq_words = X[self.on].apply(lambda x: list(set(x.split(' '))-{''}))\n",
    "        X['unique_count'] = uniq_words.apply(lambda l: len(l))\n",
    "        X['unique_words'] = uniq_words.apply(lambda w: ' '.join(w))\n",
    "        \n",
    "        return X"
   ]
  },
  {
   "cell_type": "code",
   "execution_count": 12,
   "id": "7d93b890",
   "metadata": {},
   "outputs": [],
   "source": [
    "from nltk.stem import PorterStemmer\n",
    "from nltk.tokenize import word_tokenize\n",
    "\n",
    "# Instance of PorterStemmer class for stemming words\n",
    "ps = PorterStemmer()\n",
    "\n",
    "class Stemmer(BaseEstimator, TransformerMixin):\n",
    "    def __init__(self, stem=False):\n",
    "        self.stem=stem\n",
    "        \n",
    "    def fit(self, X, y=None):\n",
    "        return self\n",
    "    \n",
    "    def transform(self, X):\n",
    "        if not self.stem:\n",
    "            pass\n",
    "        else:\n",
    "            X['Email_stemmed'] = X.Email.apply(lambda x: ' '.join([ps.stem(w) for w in x.split(' ')]))\n",
    "        return X"
   ]
  },
  {
   "cell_type": "code",
   "execution_count": 13,
   "id": "f6836945",
   "metadata": {},
   "outputs": [],
   "source": [
    "# Define class to convert a sentence into a feature vector\n",
    "from sklearn.feature_extraction.text import CountVectorizer\n",
    "\n",
    "class FeatureVector(BaseEstimator):\n",
    "    def __init__(self, binary=True):\n",
    "        # Instance of CountVectorizer setting denoting 1/0 for presence/absence of word\n",
    "        self.vectorizer = CountVectorizer(binary=binary)\n",
    "        \n",
    "    def fit(self, X, y=None):\n",
    "        return X\n",
    "    \n",
    "    def transform(self, X):\n",
    "        # Fit and transform the sentences to get the sparse matrix representation\n",
    "        sparse_matrix = self.vectorizer.fit_transform(X.unique_words)\n",
    "\n",
    "        # Get the feature names from the vectorizer\n",
    "        feature_names = self.vectorizer.get_feature_names_out()\n",
    "        \n",
    "        # Convert the sparse matrix to a dense array for better visibility\n",
    "        dense_array = sparse_matrix.toarray()\n",
    "        \n",
    "        X = pd.concat([X,pd.DataFrame(dense_array, columns=feature_names)],axis=1)\n",
    "\n",
    "        return X"
   ]
  },
  {
   "cell_type": "code",
   "execution_count": 14,
   "id": "ec21527d",
   "metadata": {},
   "outputs": [],
   "source": [
    "# Define a pipeline to clean an email, stem its contents, pick out unique words, then form feature vector\n",
    "from sklearn.pipeline import Pipeline\n",
    "from sklearn.compose import ColumnTransformer\n",
    "\n",
    "pipeline = Pipeline([\n",
    "    ('clean', CleanEmail(cleanHtml=True,lowercase=True, numStamp=True,punctuation=True,urlStamp=True)),\n",
    "    ('stem', Stemmer(stem=True)),\n",
    "    ('unique', UniqueWords(on='Email',getUniq=True)),\n",
    "    ('feature_vec', FeatureVector(binary=True)),\n",
    "])"
   ]
  },
  {
   "cell_type": "code",
   "execution_count": 15,
   "id": "3271fc88",
   "metadata": {},
   "outputs": [
    {
     "name": "stdout",
     "output_type": "stream",
     "text": [
      "                                               Email  isSpam  \\\n",
      "0  on a rh num box im trying to install your pack...     0.0   \n",
      "1   from valdiskletnieksvtedu  date mon num aug n...     0.0   \n",
      "2  url url date not supplied ive put up a page ca...     0.0   \n",
      "\n",
      "                                       Email_stemmed  unique_count  \\\n",
      "0  on a rh num box im tri to instal your packag x...            66   \n",
      "1   from valdiskletnieksvtedu  date mon num aug n...            93   \n",
      "2  url url date not suppli ive put up a page call...           125   \n",
      "\n",
      "                                        unique_words  001s  002each  010144pm  \\\n",
      "0  and by your lib for package xinelibs0913fr5 si...     0        0         0   \n",
      "1  bug and offended done going perfectly time pro...     0        0         0   \n",
      "2  and disney kingdom by howard wow snow gillmor ...     0        0         0   \n",
      "\n",
      "   011825pm  013343pm  ...  zzzzspamassassintaintorg  zzzzteana  \\\n",
      "0         0         0  ...                         0          0   \n",
      "1         0         0  ...                         0          0   \n",
      "2         0         0  ...                         0          0   \n",
      "\n",
      "   zzzzteanayahoogroupscom  ³bigfoot²  ³care  écrit  écrite  éliminé  élite  \\\n",
      "0                        0          0      0      0       0        0      0   \n",
      "1                        0          0      0      0       0        0      0   \n",
      "2                        0          0      0      0       0        0      0   \n",
      "\n",
      "   être  \n",
      "0     0  \n",
      "1     0  \n",
      "2     0  \n",
      "\n",
      "[3 rows x 30078 columns]\n"
     ]
    },
    {
     "data": {
      "text/html": [
       "<div>\n",
       "<style scoped>\n",
       "    .dataframe tbody tr th:only-of-type {\n",
       "        vertical-align: middle;\n",
       "    }\n",
       "\n",
       "    .dataframe tbody tr th {\n",
       "        vertical-align: top;\n",
       "    }\n",
       "\n",
       "    .dataframe thead th {\n",
       "        text-align: right;\n",
       "    }\n",
       "</style>\n",
       "<table border=\"1\" class=\"dataframe\">\n",
       "  <thead>\n",
       "    <tr style=\"text-align: right;\">\n",
       "      <th></th>\n",
       "      <th>Email</th>\n",
       "      <th>isSpam</th>\n",
       "      <th>Email_stemmed</th>\n",
       "      <th>unique_count</th>\n",
       "      <th>unique_words</th>\n",
       "      <th>001zrgsjtxqsod7antwgmpny5hd15v0q7rboxnpow3xmnc6vpidjkxpkyrhm19zq6mi7nv1m</th>\n",
       "      <th>0033ff</th>\n",
       "      <th>024telnbsp</th>\n",
       "      <th>0283ptfl6774bfbm7392dpuv0307vjsm4803zjlu1614iikt2570jdkt6854fhda5838oell71</th>\n",
       "      <th>02responded</th>\n",
       "      <th>...</th>\n",
       "      <th>해보자</th>\n",
       "      <th>허락없이</th>\n",
       "      <th>헤어디자이너</th>\n",
       "      <th>현재</th>\n",
       "      <th>호황을</th>\n",
       "      <th>홈쇼핑의</th>\n",
       "      <th>확실한</th>\n",
       "      <th>활황을</th>\n",
       "      <th>훨씬</th>\n",
       "      <th>힘입어</th>\n",
       "    </tr>\n",
       "  </thead>\n",
       "  <tbody>\n",
       "    <tr>\n",
       "      <th>0</th>\n",
       "      <td></td>\n",
       "      <td>1.0</td>\n",
       "      <td></td>\n",
       "      <td>0</td>\n",
       "      <td></td>\n",
       "      <td>0</td>\n",
       "      <td>0</td>\n",
       "      <td>0</td>\n",
       "      <td>0</td>\n",
       "      <td>0</td>\n",
       "      <td>...</td>\n",
       "      <td>0</td>\n",
       "      <td>0</td>\n",
       "      <td>0</td>\n",
       "      <td>0</td>\n",
       "      <td>0</td>\n",
       "      <td>0</td>\n",
       "      <td>0</td>\n",
       "      <td>0</td>\n",
       "      <td>0</td>\n",
       "      <td>0</td>\n",
       "    </tr>\n",
       "    <tr>\n",
       "      <th>1</th>\n",
       "      <td>earn extra income from home here is tremendou...</td>\n",
       "      <td>1.0</td>\n",
       "      <td>earn extra incom from home here is tremend op...</td>\n",
       "      <td>89</td>\n",
       "      <td>and money chance year training for complete su...</td>\n",
       "      <td>0</td>\n",
       "      <td>0</td>\n",
       "      <td>0</td>\n",
       "      <td>0</td>\n",
       "      <td>0</td>\n",
       "      <td>...</td>\n",
       "      <td>0</td>\n",
       "      <td>0</td>\n",
       "      <td>0</td>\n",
       "      <td>0</td>\n",
       "      <td>0</td>\n",
       "      <td>0</td>\n",
       "      <td>0</td>\n",
       "      <td>0</td>\n",
       "      <td>0</td>\n",
       "      <td>0</td>\n",
       "    </tr>\n",
       "    <tr>\n",
       "      <th>2</th>\n",
       "      <td>friendnow you can copy dvds and games url back...</td>\n",
       "      <td>1.0</td>\n",
       "      <td>friendnow you can copi dvd and game url backup...</td>\n",
       "      <td>146</td>\n",
       "      <td>by 74min interactive using member free again a...</td>\n",
       "      <td>0</td>\n",
       "      <td>0</td>\n",
       "      <td>0</td>\n",
       "      <td>0</td>\n",
       "      <td>0</td>\n",
       "      <td>...</td>\n",
       "      <td>0</td>\n",
       "      <td>0</td>\n",
       "      <td>0</td>\n",
       "      <td>0</td>\n",
       "      <td>0</td>\n",
       "      <td>0</td>\n",
       "      <td>0</td>\n",
       "      <td>0</td>\n",
       "      <td>0</td>\n",
       "      <td>0</td>\n",
       "    </tr>\n",
       "  </tbody>\n",
       "</table>\n",
       "<p>3 rows × 14216 columns</p>\n",
       "</div>"
      ],
      "text/plain": [
       "                                               Email  isSpam  \\\n",
       "0                                                        1.0   \n",
       "1   earn extra income from home here is tremendou...     1.0   \n",
       "2  friendnow you can copy dvds and games url back...     1.0   \n",
       "\n",
       "                                       Email_stemmed  unique_count  \\\n",
       "0                                                                0   \n",
       "1   earn extra incom from home here is tremend op...            89   \n",
       "2  friendnow you can copi dvd and game url backup...           146   \n",
       "\n",
       "                                        unique_words  \\\n",
       "0                                                      \n",
       "1  and money chance year training for complete su...   \n",
       "2  by 74min interactive using member free again a...   \n",
       "\n",
       "   001zrgsjtxqsod7antwgmpny5hd15v0q7rboxnpow3xmnc6vpidjkxpkyrhm19zq6mi7nv1m  \\\n",
       "0                                                  0                          \n",
       "1                                                  0                          \n",
       "2                                                  0                          \n",
       "\n",
       "   0033ff  024telnbsp  \\\n",
       "0       0           0   \n",
       "1       0           0   \n",
       "2       0           0   \n",
       "\n",
       "   0283ptfl6774bfbm7392dpuv0307vjsm4803zjlu1614iikt2570jdkt6854fhda5838oell71  \\\n",
       "0                                                  0                            \n",
       "1                                                  0                            \n",
       "2                                                  0                            \n",
       "\n",
       "   02responded  ...  해보자  허락없이  헤어디자이너  현재  호황을  홈쇼핑의  확실한  활황을  훨씬  힘입어  \n",
       "0            0  ...    0     0       0   0    0     0    0    0   0    0  \n",
       "1            0  ...    0     0       0   0    0     0    0    0   0    0  \n",
       "2            0  ...    0     0       0   0    0     0    0    0   0    0  \n",
       "\n",
       "[3 rows x 14216 columns]"
      ]
     },
     "execution_count": 15,
     "metadata": {},
     "output_type": "execute_result"
    }
   ],
   "source": [
    "cleaned_ham = pd.DataFrame({'Email': [vb.set_email(e).content() for e in emails_ham],\n",
    "                            'isSpam': np.zeros(len(emails_ham))})\n",
    "cleaned_spam = pd.DataFrame({'Email': [vb.set_email(e).content() for e in emails_spam],\n",
    "                            'isSpam': np.ones(len(emails_spam))})\n",
    "\n",
    "# Transform cleaned_ham/spam by applying pipeline\n",
    "filtered_ham = pipeline.transform(cleaned_ham)\n",
    "filtered_spam = pipeline.transform(cleaned_spam)\n",
    "\n",
    "print(filtered_ham.head(3))\n",
    "filtered_spam.head(3)"
   ]
  },
  {
   "cell_type": "code",
   "execution_count": 16,
   "id": "db0498f9",
   "metadata": {},
   "outputs": [
    {
     "name": "stdout",
     "output_type": "stream",
     "text": [
      "(2500, 30074)\n",
      "(500, 14212)\n"
     ]
    },
    {
     "data": {
      "text/plain": [
       "(3000, 38046)"
      ]
     },
     "execution_count": 16,
     "metadata": {},
     "output_type": "execute_result"
    }
   ],
   "source": [
    "# Make ham and spam feature dataframes by dropping features from filtered_ham/spam dataframes\n",
    "colsToDrop = ['Email', 'Email_stemmed', 'unique_count', 'unique_words']\n",
    "df_ham = filtered_ham.drop(colsToDrop, axis=1)\n",
    "df_spam = filtered_spam.drop(colsToDrop, axis=1)\n",
    "\n",
    "print(df_ham.shape)\n",
    "print(df_spam.shape)\n",
    "\n",
    "# Concat\n",
    "df_emails = pd.concat([df_ham, df_spam])\n",
    "df_emails.shape"
   ]
  },
  {
   "cell_type": "code",
   "execution_count": 17,
   "id": "7c7417b0",
   "metadata": {},
   "outputs": [
    {
     "data": {
      "text/plain": [
       "False"
      ]
     },
     "execution_count": 17,
     "metadata": {},
     "output_type": "execute_result"
    }
   ],
   "source": [
    "# Concatenating two dataframes produces NaNs for features present in one dataframe but not the other\n",
    "# Since this scenario simply means a feature (e.g., a word) is not present in an email, use\n",
    "# an imputer to replace missing values with 0s\n",
    "from sklearn.impute import SimpleImputer\n",
    "imputer = SimpleImputer(fill_value=0)\n",
    "\n",
    "tmp_ = imputer.fit_transform(df_emails)\n",
    "\n",
    "# Add back in column labels and indices\n",
    "df_emails_tr = pd.DataFrame(tmp_, columns=df_emails.columns, index=df_emails.index)\n",
    "# Confirm absence of NaNs\n",
    "df_emails_tr.isnull().values.any()"
   ]
  },
  {
   "cell_type": "code",
   "execution_count": 18,
   "id": "4663793e",
   "metadata": {},
   "outputs": [
    {
     "name": "stdout",
     "output_type": "stream",
     "text": [
      "(2400,)\n",
      "(600,)\n",
      "(2400, 38045)\n",
      "(600, 38045)\n"
     ]
    }
   ],
   "source": [
    "# Split the dataframes into an 80/20 split\n",
    "from sklearn.model_selection import train_test_split\n",
    "\n",
    "X_train_full, X_test_full = train_test_split(df_emails_tr, test_size=0.2, random_state=10)\n",
    "\n",
    "# Drop the isSpam label from X_train/test_full to create train and test labels\n",
    "y_train = X_train_full.isSpam\n",
    "y_test = X_test_full.isSpam\n",
    "X_train = X_train_full.drop(['isSpam'], axis=1)\n",
    "X_test = X_test_full.drop(['isSpam'], axis=1)\n",
    "\n",
    "for df in [y_train, y_test, X_train, X_test]:\n",
    "    print(df.shape)"
   ]
  },
  {
   "cell_type": "markdown",
   "id": "6e7ab33c",
   "metadata": {},
   "source": [
    "# START TRAINING CLASSIFIERS #\n",
    "    - Stochastic Gradient Descent Classifier\n",
    "    - Support Vector Machine Classifier\n",
    "    - K-Neighbors Classifier\n",
    "    - Decision Tree Classifier"
   ]
  },
  {
   "cell_type": "code",
   "execution_count": 19,
   "id": "c4d43780",
   "metadata": {},
   "outputs": [],
   "source": [
    "from sklearn.linear_model import SGDClassifier\n",
    "from sklearn.svm import SVC\n",
    "from sklearn.neighbors import KNeighborsClassifier\n",
    "from sklearn.tree import DecisionTreeClassifier"
   ]
  },
  {
   "cell_type": "markdown",
   "id": "790adfa3",
   "metadata": {},
   "source": [
    "##### Metrics"
   ]
  },
  {
   "cell_type": "code",
   "execution_count": 20,
   "id": "00b0a9d3",
   "metadata": {},
   "outputs": [],
   "source": [
    "from sklearn.metrics import confusion_matrix, f1_score\n",
    "from sklearn.metrics import precision_score, recall_score, accuracy_score\n",
    "from sklearn.model_selection import cross_val_score, cross_val_predict"
   ]
  },
  {
   "cell_type": "code",
   "execution_count": 21,
   "id": "45266ef5",
   "metadata": {},
   "outputs": [],
   "source": [
    "# Define a function to report cross validation scores for different models\n",
    "def crossValScores(model, features, labels, cv=5, scoring='accuracy'):\n",
    "    return cross_val_score(model, features, labels, cv=cv, scoring=scoring)"
   ]
  },
  {
   "cell_type": "code",
   "execution_count": 22,
   "id": "1f81e666",
   "metadata": {},
   "outputs": [],
   "source": [
    "# Define a function to report cross validation predictions for different models\n",
    "def crossValPredict(model, features, labels, cv=5):\n",
    "    return cross_val_predict(model, features, labels, cv=cv)"
   ]
  },
  {
   "cell_type": "markdown",
   "id": "5b9ce691",
   "metadata": {},
   "source": [
    "#### Stochastic Gradient Descent Classifier"
   ]
  },
  {
   "cell_type": "code",
   "execution_count": 23,
   "id": "c54e5994",
   "metadata": {},
   "outputs": [
    {
     "data": {
      "text/html": [
       "<style>#sk-container-id-1 {color: black;background-color: white;}#sk-container-id-1 pre{padding: 0;}#sk-container-id-1 div.sk-toggleable {background-color: white;}#sk-container-id-1 label.sk-toggleable__label {cursor: pointer;display: block;width: 100%;margin-bottom: 0;padding: 0.3em;box-sizing: border-box;text-align: center;}#sk-container-id-1 label.sk-toggleable__label-arrow:before {content: \"▸\";float: left;margin-right: 0.25em;color: #696969;}#sk-container-id-1 label.sk-toggleable__label-arrow:hover:before {color: black;}#sk-container-id-1 div.sk-estimator:hover label.sk-toggleable__label-arrow:before {color: black;}#sk-container-id-1 div.sk-toggleable__content {max-height: 0;max-width: 0;overflow: hidden;text-align: left;background-color: #f0f8ff;}#sk-container-id-1 div.sk-toggleable__content pre {margin: 0.2em;color: black;border-radius: 0.25em;background-color: #f0f8ff;}#sk-container-id-1 input.sk-toggleable__control:checked~div.sk-toggleable__content {max-height: 200px;max-width: 100%;overflow: auto;}#sk-container-id-1 input.sk-toggleable__control:checked~label.sk-toggleable__label-arrow:before {content: \"▾\";}#sk-container-id-1 div.sk-estimator input.sk-toggleable__control:checked~label.sk-toggleable__label {background-color: #d4ebff;}#sk-container-id-1 div.sk-label input.sk-toggleable__control:checked~label.sk-toggleable__label {background-color: #d4ebff;}#sk-container-id-1 input.sk-hidden--visually {border: 0;clip: rect(1px 1px 1px 1px);clip: rect(1px, 1px, 1px, 1px);height: 1px;margin: -1px;overflow: hidden;padding: 0;position: absolute;width: 1px;}#sk-container-id-1 div.sk-estimator {font-family: monospace;background-color: #f0f8ff;border: 1px dotted black;border-radius: 0.25em;box-sizing: border-box;margin-bottom: 0.5em;}#sk-container-id-1 div.sk-estimator:hover {background-color: #d4ebff;}#sk-container-id-1 div.sk-parallel-item::after {content: \"\";width: 100%;border-bottom: 1px solid gray;flex-grow: 1;}#sk-container-id-1 div.sk-label:hover label.sk-toggleable__label {background-color: #d4ebff;}#sk-container-id-1 div.sk-serial::before {content: \"\";position: absolute;border-left: 1px solid gray;box-sizing: border-box;top: 0;bottom: 0;left: 50%;z-index: 0;}#sk-container-id-1 div.sk-serial {display: flex;flex-direction: column;align-items: center;background-color: white;padding-right: 0.2em;padding-left: 0.2em;position: relative;}#sk-container-id-1 div.sk-item {position: relative;z-index: 1;}#sk-container-id-1 div.sk-parallel {display: flex;align-items: stretch;justify-content: center;background-color: white;position: relative;}#sk-container-id-1 div.sk-item::before, #sk-container-id-1 div.sk-parallel-item::before {content: \"\";position: absolute;border-left: 1px solid gray;box-sizing: border-box;top: 0;bottom: 0;left: 50%;z-index: -1;}#sk-container-id-1 div.sk-parallel-item {display: flex;flex-direction: column;z-index: 1;position: relative;background-color: white;}#sk-container-id-1 div.sk-parallel-item:first-child::after {align-self: flex-end;width: 50%;}#sk-container-id-1 div.sk-parallel-item:last-child::after {align-self: flex-start;width: 50%;}#sk-container-id-1 div.sk-parallel-item:only-child::after {width: 0;}#sk-container-id-1 div.sk-dashed-wrapped {border: 1px dashed gray;margin: 0 0.4em 0.5em 0.4em;box-sizing: border-box;padding-bottom: 0.4em;background-color: white;}#sk-container-id-1 div.sk-label label {font-family: monospace;font-weight: bold;display: inline-block;line-height: 1.2em;}#sk-container-id-1 div.sk-label-container {text-align: center;}#sk-container-id-1 div.sk-container {/* jupyter's `normalize.less` sets `[hidden] { display: none; }` but bootstrap.min.css set `[hidden] { display: none !important; }` so we also need the `!important` here to be able to override the default hidden behavior on the sphinx rendered scikit-learn.org. See: https://github.com/scikit-learn/scikit-learn/issues/21755 */display: inline-block !important;position: relative;}#sk-container-id-1 div.sk-text-repr-fallback {display: none;}</style><div id=\"sk-container-id-1\" class=\"sk-top-container\"><div class=\"sk-text-repr-fallback\"><pre>SGDClassifier(random_state=10)</pre><b>In a Jupyter environment, please rerun this cell to show the HTML representation or trust the notebook. <br />On GitHub, the HTML representation is unable to render, please try loading this page with nbviewer.org.</b></div><div class=\"sk-container\" hidden><div class=\"sk-item\"><div class=\"sk-estimator sk-toggleable\"><input class=\"sk-toggleable__control sk-hidden--visually\" id=\"sk-estimator-id-1\" type=\"checkbox\" checked><label for=\"sk-estimator-id-1\" class=\"sk-toggleable__label sk-toggleable__label-arrow\">SGDClassifier</label><div class=\"sk-toggleable__content\"><pre>SGDClassifier(random_state=10)</pre></div></div></div></div></div>"
      ],
      "text/plain": [
       "SGDClassifier(random_state=10)"
      ]
     },
     "execution_count": 23,
     "metadata": {},
     "output_type": "execute_result"
    }
   ],
   "source": [
    "sgd_clf = SGDClassifier(random_state=10)\n",
    "sgd_clf.fit(X_train, y_train)"
   ]
  },
  {
   "cell_type": "code",
   "execution_count": 24,
   "id": "52dc809d",
   "metadata": {},
   "outputs": [
    {
     "name": "stderr",
     "output_type": "stream",
     "text": [
      "/home/colin/.local/lib/python3.10/site-packages/sklearn/base.py:439: UserWarning: X does not have valid feature names, but SGDClassifier was fitted with feature names\n",
      "  warnings.warn(\n"
     ]
    },
    {
     "data": {
      "text/plain": [
       "array([ True])"
      ]
     },
     "execution_count": 24,
     "metadata": {},
     "output_type": "execute_result"
    }
   ],
   "source": [
    "# Simple SGDClassifier correctly predicts a randomly chosen member from training set\n",
    "some_email = X_train.iloc[12]\n",
    "some_email_label = y_train.iloc[12]\n",
    "\n",
    "sgd_clf.predict([some_email]) == some_email_label"
   ]
  },
  {
   "cell_type": "code",
   "execution_count": 25,
   "id": "240875e2",
   "metadata": {},
   "outputs": [
    {
     "data": {
      "text/plain": [
       "array([0.99166667, 0.98958333, 0.97083333, 0.97916667, 0.98333333])"
      ]
     },
     "execution_count": 25,
     "metadata": {},
     "output_type": "execute_result"
    }
   ],
   "source": [
    "# Assess performance of sgd_clf via cross-validation\n",
    "crossValScores(sgd_clf, X_train, y_train)"
   ]
  },
  {
   "cell_type": "markdown",
   "id": "96e325be",
   "metadata": {},
   "source": [
    "sgd_clf achieves > 97% accuracy on all cross-validation folds.\n",
    "Given greater presence of ham vs. spam (namely, skewed dataset), accuracy shouldn't be the only metric we consider."
   ]
  },
  {
   "cell_type": "code",
   "execution_count": 26,
   "id": "b22d1ee3",
   "metadata": {},
   "outputs": [],
   "source": [
    "# Construct a class to conveniently form/access the confusion_matrix, precision/recall scores for a classifier\n",
    "import matplotlib.pyplot as plt\n",
    "\n",
    "class AssessModel:\n",
    "    def __init__(self, model, features, labels):\n",
    "        self.model = model\n",
    "        self.features = features\n",
    "        self.labels = labels\n",
    "        self.labels_pred = None\n",
    "        self.conf_mat = None\n",
    "        \n",
    "    def cvp(self):\n",
    "        self.labels_pred = crossValPredict(self.model, self.features, self.labels)\n",
    "        self.conf_mat = confusion_matrix(self.labels, self.labels_pred)\n",
    "        \n",
    "    def precision(self):\n",
    "        return \"Precision = %.5f\"%precision_score(self.labels, self.labels_pred)\n",
    "    \n",
    "    def recall(self):\n",
    "        return \"Recall = %.5f\"%recall_score(self.labels, self.labels_pred)\n",
    "    \n",
    "    def plotConfMat(self):\n",
    "        plt.matshow(self.conf_mat, cmap=plt.cm.gray)\n",
    "        plt.xlabel('Predicted Classes')\n",
    "        plt.ylabel('True Classes')\n",
    "        print(self.conf_mat); plt.show()"
   ]
  },
  {
   "cell_type": "code",
   "execution_count": 27,
   "id": "bae6db4b",
   "metadata": {},
   "outputs": [
    {
     "name": "stdout",
     "output_type": "stream",
     "text": [
      "Precision = 0.97165\n",
      "Recall = 0.92629\n",
      "[[1982   11]\n",
      " [  30  377]]\n"
     ]
    },
    {
     "data": {
      "image/png": "[encoded data removed]",
      "text/plain": [
       "<Figure size 480x480 with 1 Axes>"
      ]
     },
     "metadata": {},
     "output_type": "display_data"
    }
   ],
   "source": [
    "# Assess performance of Stochastic Gradient Descent classifier\n",
    "sgd_perf = AssessModel(sgd_clf, X_train, y_train)\n",
    "sgd_perf.cvp()\n",
    "print(sgd_perf.precision())\n",
    "print(sgd_perf.recall())\n",
    "sgd_perf.plotConfMat()"
   ]
  },
  {
   "cell_type": "markdown",
   "id": "402c47c1",
   "metadata": {},
   "source": [
    " sgd_clf classifier incorrectly classified ham as spam 11 times, and spam as ham 30 times in the training set."
   ]
  },
  {
   "cell_type": "markdown",
   "id": "f4d2f04f",
   "metadata": {},
   "source": [
    "#### Decision Tree Classifier"
   ]
  },
  {
   "cell_type": "code",
   "execution_count": 28,
   "id": "653e2106",
   "metadata": {},
   "outputs": [
    {
     "data": {
      "text/html": [
       "<style>#sk-container-id-2 {color: black;background-color: white;}#sk-container-id-2 pre{padding: 0;}#sk-container-id-2 div.sk-toggleable {background-color: white;}#sk-container-id-2 label.sk-toggleable__label {cursor: pointer;display: block;width: 100%;margin-bottom: 0;padding: 0.3em;box-sizing: border-box;text-align: center;}#sk-container-id-2 label.sk-toggleable__label-arrow:before {content: \"▸\";float: left;margin-right: 0.25em;color: #696969;}#sk-container-id-2 label.sk-toggleable__label-arrow:hover:before {color: black;}#sk-container-id-2 div.sk-estimator:hover label.sk-toggleable__label-arrow:before {color: black;}#sk-container-id-2 div.sk-toggleable__content {max-height: 0;max-width: 0;overflow: hidden;text-align: left;background-color: #f0f8ff;}#sk-container-id-2 div.sk-toggleable__content pre {margin: 0.2em;color: black;border-radius: 0.25em;background-color: #f0f8ff;}#sk-container-id-2 input.sk-toggleable__control:checked~div.sk-toggleable__content {max-height: 200px;max-width: 100%;overflow: auto;}#sk-container-id-2 input.sk-toggleable__control:checked~label.sk-toggleable__label-arrow:before {content: \"▾\";}#sk-container-id-2 div.sk-estimator input.sk-toggleable__control:checked~label.sk-toggleable__label {background-color: #d4ebff;}#sk-container-id-2 div.sk-label input.sk-toggleable__control:checked~label.sk-toggleable__label {background-color: #d4ebff;}#sk-container-id-2 input.sk-hidden--visually {border: 0;clip: rect(1px 1px 1px 1px);clip: rect(1px, 1px, 1px, 1px);height: 1px;margin: -1px;overflow: hidden;padding: 0;position: absolute;width: 1px;}#sk-container-id-2 div.sk-estimator {font-family: monospace;background-color: #f0f8ff;border: 1px dotted black;border-radius: 0.25em;box-sizing: border-box;margin-bottom: 0.5em;}#sk-container-id-2 div.sk-estimator:hover {background-color: #d4ebff;}#sk-container-id-2 div.sk-parallel-item::after {content: \"\";width: 100%;border-bottom: 1px solid gray;flex-grow: 1;}#sk-container-id-2 div.sk-label:hover label.sk-toggleable__label {background-color: #d4ebff;}#sk-container-id-2 div.sk-serial::before {content: \"\";position: absolute;border-left: 1px solid gray;box-sizing: border-box;top: 0;bottom: 0;left: 50%;z-index: 0;}#sk-container-id-2 div.sk-serial {display: flex;flex-direction: column;align-items: center;background-color: white;padding-right: 0.2em;padding-left: 0.2em;position: relative;}#sk-container-id-2 div.sk-item {position: relative;z-index: 1;}#sk-container-id-2 div.sk-parallel {display: flex;align-items: stretch;justify-content: center;background-color: white;position: relative;}#sk-container-id-2 div.sk-item::before, #sk-container-id-2 div.sk-parallel-item::before {content: \"\";position: absolute;border-left: 1px solid gray;box-sizing: border-box;top: 0;bottom: 0;left: 50%;z-index: -1;}#sk-container-id-2 div.sk-parallel-item {display: flex;flex-direction: column;z-index: 1;position: relative;background-color: white;}#sk-container-id-2 div.sk-parallel-item:first-child::after {align-self: flex-end;width: 50%;}#sk-container-id-2 div.sk-parallel-item:last-child::after {align-self: flex-start;width: 50%;}#sk-container-id-2 div.sk-parallel-item:only-child::after {width: 0;}#sk-container-id-2 div.sk-dashed-wrapped {border: 1px dashed gray;margin: 0 0.4em 0.5em 0.4em;box-sizing: border-box;padding-bottom: 0.4em;background-color: white;}#sk-container-id-2 div.sk-label label {font-family: monospace;font-weight: bold;display: inline-block;line-height: 1.2em;}#sk-container-id-2 div.sk-label-container {text-align: center;}#sk-container-id-2 div.sk-container {/* jupyter's `normalize.less` sets `[hidden] { display: none; }` but bootstrap.min.css set `[hidden] { display: none !important; }` so we also need the `!important` here to be able to override the default hidden behavior on the sphinx rendered scikit-learn.org. See: https://github.com/scikit-learn/scikit-learn/issues/21755 */display: inline-block !important;position: relative;}#sk-container-id-2 div.sk-text-repr-fallback {display: none;}</style><div id=\"sk-container-id-2\" class=\"sk-top-container\"><div class=\"sk-text-repr-fallback\"><pre>DecisionTreeClassifier(random_state=10)</pre><b>In a Jupyter environment, please rerun this cell to show the HTML representation or trust the notebook. <br />On GitHub, the HTML representation is unable to render, please try loading this page with nbviewer.org.</b></div><div class=\"sk-container\" hidden><div class=\"sk-item\"><div class=\"sk-estimator sk-toggleable\"><input class=\"sk-toggleable__control sk-hidden--visually\" id=\"sk-estimator-id-2\" type=\"checkbox\" checked><label for=\"sk-estimator-id-2\" class=\"sk-toggleable__label sk-toggleable__label-arrow\">DecisionTreeClassifier</label><div class=\"sk-toggleable__content\"><pre>DecisionTreeClassifier(random_state=10)</pre></div></div></div></div></div>"
      ],
      "text/plain": [
       "DecisionTreeClassifier(random_state=10)"
      ]
     },
     "execution_count": 28,
     "metadata": {},
     "output_type": "execute_result"
    }
   ],
   "source": [
    "tree_clf = DecisionTreeClassifier(random_state=10)\n",
    "tree_clf.fit(X_train, y_train)"
   ]
  },
  {
   "cell_type": "code",
   "execution_count": 29,
   "id": "385e6a6f",
   "metadata": {},
   "outputs": [
    {
     "name": "stdout",
     "output_type": "stream",
     "text": [
      "[0.99791667 0.99791667 0.99583333 0.99791667 0.99791667]\n"
     ]
    },
    {
     "data": {
      "text/plain": [
       "0.9974999999999999"
      ]
     },
     "execution_count": 29,
     "metadata": {},
     "output_type": "execute_result"
    }
   ],
   "source": [
    "# Assess performance of tree_clf with cross_validation\n",
    "tree_clf_scores = crossValScores(tree_clf, X_train, y_train)\n",
    "print(tree_clf_scores)\n",
    "# Mean score from cross validation\n",
    "tree_clf_scores.mean()"
   ]
  },
  {
   "cell_type": "code",
   "execution_count": 30,
   "id": "95b63a39",
   "metadata": {},
   "outputs": [
    {
     "name": "stdout",
     "output_type": "stream",
     "text": [
      "Precision = 0.98783\n",
      "Recall = 0.99754\n",
      "[[1988    5]\n",
      " [   1  406]]\n"
     ]
    },
    {
     "data": {
      "image/png": "[encoded data removed]",
      "text/plain": [
       "<Figure size 480x480 with 1 Axes>"
      ]
     },
     "metadata": {},
     "output_type": "display_data"
    }
   ],
   "source": [
    "# Assess performance of tree_clf using cross_val_predict & confusion matrix\n",
    "tree_clf_perf = AssessModel(tree_clf, X_train, y_train)\n",
    "tree_clf_perf.cvp()\n",
    "print(tree_clf_perf.precision())\n",
    "print(tree_clf_perf.recall())\n",
    "tree_clf_perf.plotConfMat()"
   ]
  },
  {
   "cell_type": "markdown",
   "id": "210113b0",
   "metadata": {},
   "source": [
    "Decision tree classifier (tree_clf) incorrectly classified ham as spam 5 times, and spam as ham 1 time in the training set. When compared with Stochastic gradient descent classifer, the tree_clf has improved precision and recall by ~1% and ~7%, respectively."
   ]
  },
  {
   "cell_type": "markdown",
   "id": "86ddb763",
   "metadata": {},
   "source": [
    "#### Support Vector Machine Classifier"
   ]
  },
  {
   "cell_type": "code",
   "execution_count": 31,
   "id": "4f22faa6",
   "metadata": {},
   "outputs": [
    {
     "data": {
      "text/html": [
       "<style>#sk-container-id-3 {color: black;background-color: white;}#sk-container-id-3 pre{padding: 0;}#sk-container-id-3 div.sk-toggleable {background-color: white;}#sk-container-id-3 label.sk-toggleable__label {cursor: pointer;display: block;width: 100%;margin-bottom: 0;padding: 0.3em;box-sizing: border-box;text-align: center;}#sk-container-id-3 label.sk-toggleable__label-arrow:before {content: \"▸\";float: left;margin-right: 0.25em;color: #696969;}#sk-container-id-3 label.sk-toggleable__label-arrow:hover:before {color: black;}#sk-container-id-3 div.sk-estimator:hover label.sk-toggleable__label-arrow:before {color: black;}#sk-container-id-3 div.sk-toggleable__content {max-height: 0;max-width: 0;overflow: hidden;text-align: left;background-color: #f0f8ff;}#sk-container-id-3 div.sk-toggleable__content pre {margin: 0.2em;color: black;border-radius: 0.25em;background-color: #f0f8ff;}#sk-container-id-3 input.sk-toggleable__control:checked~div.sk-toggleable__content {max-height: 200px;max-width: 100%;overflow: auto;}#sk-container-id-3 input.sk-toggleable__control:checked~label.sk-toggleable__label-arrow:before {content: \"▾\";}#sk-container-id-3 div.sk-estimator input.sk-toggleable__control:checked~label.sk-toggleable__label {background-color: #d4ebff;}#sk-container-id-3 div.sk-label input.sk-toggleable__control:checked~label.sk-toggleable__label {background-color: #d4ebff;}#sk-container-id-3 input.sk-hidden--visually {border: 0;clip: rect(1px 1px 1px 1px);clip: rect(1px, 1px, 1px, 1px);height: 1px;margin: -1px;overflow: hidden;padding: 0;position: absolute;width: 1px;}#sk-container-id-3 div.sk-estimator {font-family: monospace;background-color: #f0f8ff;border: 1px dotted black;border-radius: 0.25em;box-sizing: border-box;margin-bottom: 0.5em;}#sk-container-id-3 div.sk-estimator:hover {background-color: #d4ebff;}#sk-container-id-3 div.sk-parallel-item::after {content: \"\";width: 100%;border-bottom: 1px solid gray;flex-grow: 1;}#sk-container-id-3 div.sk-label:hover label.sk-toggleable__label {background-color: #d4ebff;}#sk-container-id-3 div.sk-serial::before {content: \"\";position: absolute;border-left: 1px solid gray;box-sizing: border-box;top: 0;bottom: 0;left: 50%;z-index: 0;}#sk-container-id-3 div.sk-serial {display: flex;flex-direction: column;align-items: center;background-color: white;padding-right: 0.2em;padding-left: 0.2em;position: relative;}#sk-container-id-3 div.sk-item {position: relative;z-index: 1;}#sk-container-id-3 div.sk-parallel {display: flex;align-items: stretch;justify-content: center;background-color: white;position: relative;}#sk-container-id-3 div.sk-item::before, #sk-container-id-3 div.sk-parallel-item::before {content: \"\";position: absolute;border-left: 1px solid gray;box-sizing: border-box;top: 0;bottom: 0;left: 50%;z-index: -1;}#sk-container-id-3 div.sk-parallel-item {display: flex;flex-direction: column;z-index: 1;position: relative;background-color: white;}#sk-container-id-3 div.sk-parallel-item:first-child::after {align-self: flex-end;width: 50%;}#sk-container-id-3 div.sk-parallel-item:last-child::after {align-self: flex-start;width: 50%;}#sk-container-id-3 div.sk-parallel-item:only-child::after {width: 0;}#sk-container-id-3 div.sk-dashed-wrapped {border: 1px dashed gray;margin: 0 0.4em 0.5em 0.4em;box-sizing: border-box;padding-bottom: 0.4em;background-color: white;}#sk-container-id-3 div.sk-label label {font-family: monospace;font-weight: bold;display: inline-block;line-height: 1.2em;}#sk-container-id-3 div.sk-label-container {text-align: center;}#sk-container-id-3 div.sk-container {/* jupyter's `normalize.less` sets `[hidden] { display: none; }` but bootstrap.min.css set `[hidden] { display: none !important; }` so we also need the `!important` here to be able to override the default hidden behavior on the sphinx rendered scikit-learn.org. See: https://github.com/scikit-learn/scikit-learn/issues/21755 */display: inline-block !important;position: relative;}#sk-container-id-3 div.sk-text-repr-fallback {display: none;}</style><div id=\"sk-container-id-3\" class=\"sk-top-container\"><div class=\"sk-text-repr-fallback\"><pre>SVC(random_state=10)</pre><b>In a Jupyter environment, please rerun this cell to show the HTML representation or trust the notebook. <br />On GitHub, the HTML representation is unable to render, please try loading this page with nbviewer.org.</b></div><div class=\"sk-container\" hidden><div class=\"sk-item\"><div class=\"sk-estimator sk-toggleable\"><input class=\"sk-toggleable__control sk-hidden--visually\" id=\"sk-estimator-id-3\" type=\"checkbox\" checked><label for=\"sk-estimator-id-3\" class=\"sk-toggleable__label sk-toggleable__label-arrow\">SVC</label><div class=\"sk-toggleable__content\"><pre>SVC(random_state=10)</pre></div></div></div></div></div>"
      ],
      "text/plain": [
       "SVC(random_state=10)"
      ]
     },
     "execution_count": 31,
     "metadata": {},
     "output_type": "execute_result"
    }
   ],
   "source": [
    "svm_clf = SVC(random_state=10)\n",
    "svm_clf.fit(X_train, y_train)"
   ]
  },
  {
   "cell_type": "code",
   "execution_count": 32,
   "id": "b77d5765",
   "metadata": {},
   "outputs": [
    {
     "name": "stdout",
     "output_type": "stream",
     "text": [
      "[0.95833333 0.9625     0.94166667 0.95       0.95833333]\n"
     ]
    },
    {
     "data": {
      "text/plain": [
       "0.9541666666666666"
      ]
     },
     "execution_count": 32,
     "metadata": {},
     "output_type": "execute_result"
    }
   ],
   "source": [
    "# Cross validation scores with support vector machine classifier\n",
    "svm_clf_scores = crossValScores(svm_clf, X_train, y_train)\n",
    "print(svm_clf_scores)\n",
    "svm_clf_scores.mean()"
   ]
  },
  {
   "cell_type": "code",
   "execution_count": 33,
   "id": "60665573",
   "metadata": {},
   "outputs": [
    {
     "name": "stdout",
     "output_type": "stream",
     "text": [
      "Precision = 1.00000\n",
      "Recall = 0.72973\n",
      "[[1993    0]\n",
      " [ 110  297]]\n"
     ]
    },
    {
     "data": {
      "image/png": "[encoded data removed]",
      "text/plain": [
       "<Figure size 480x480 with 1 Axes>"
      ]
     },
     "metadata": {},
     "output_type": "display_data"
    }
   ],
   "source": [
    "# Assess performance of support vector machine classifier using cross_val_predict and confusion matrix\n",
    "svm_clf_perf = AssessModel(svm_clf, X_train, y_train)\n",
    "svm_clf_perf.cvp()\n",
    "print(svm_clf_perf.precision())\n",
    "print(svm_clf_perf.recall())\n",
    "svm_clf_perf.plotConfMat()"
   ]
  },
  {
   "cell_type": "markdown",
   "id": "2f3a8605",
   "metadata": {},
   "source": [
    "While the Support Vector Machine classifier did not incorrectly classify ham emails as spam (i.e.,\n",
    "100% precision), the classifier incorrectly classified spam as ham 110 times in the training set."
   ]
  },
  {
   "cell_type": "markdown",
   "id": "a5aacc36",
   "metadata": {},
   "source": [
    "#### KNeighborsClassifier"
   ]
  },
  {
   "cell_type": "code",
   "execution_count": 34,
   "id": "119f9370",
   "metadata": {},
   "outputs": [
    {
     "data": {
      "text/html": [
       "<style>#sk-container-id-4 {color: black;background-color: white;}#sk-container-id-4 pre{padding: 0;}#sk-container-id-4 div.sk-toggleable {background-color: white;}#sk-container-id-4 label.sk-toggleable__label {cursor: pointer;display: block;width: 100%;margin-bottom: 0;padding: 0.3em;box-sizing: border-box;text-align: center;}#sk-container-id-4 label.sk-toggleable__label-arrow:before {content: \"▸\";float: left;margin-right: 0.25em;color: #696969;}#sk-container-id-4 label.sk-toggleable__label-arrow:hover:before {color: black;}#sk-container-id-4 div.sk-estimator:hover label.sk-toggleable__label-arrow:before {color: black;}#sk-container-id-4 div.sk-toggleable__content {max-height: 0;max-width: 0;overflow: hidden;text-align: left;background-color: #f0f8ff;}#sk-container-id-4 div.sk-toggleable__content pre {margin: 0.2em;color: black;border-radius: 0.25em;background-color: #f0f8ff;}#sk-container-id-4 input.sk-toggleable__control:checked~div.sk-toggleable__content {max-height: 200px;max-width: 100%;overflow: auto;}#sk-container-id-4 input.sk-toggleable__control:checked~label.sk-toggleable__label-arrow:before {content: \"▾\";}#sk-container-id-4 div.sk-estimator input.sk-toggleable__control:checked~label.sk-toggleable__label {background-color: #d4ebff;}#sk-container-id-4 div.sk-label input.sk-toggleable__control:checked~label.sk-toggleable__label {background-color: #d4ebff;}#sk-container-id-4 input.sk-hidden--visually {border: 0;clip: rect(1px 1px 1px 1px);clip: rect(1px, 1px, 1px, 1px);height: 1px;margin: -1px;overflow: hidden;padding: 0;position: absolute;width: 1px;}#sk-container-id-4 div.sk-estimator {font-family: monospace;background-color: #f0f8ff;border: 1px dotted black;border-radius: 0.25em;box-sizing: border-box;margin-bottom: 0.5em;}#sk-container-id-4 div.sk-estimator:hover {background-color: #d4ebff;}#sk-container-id-4 div.sk-parallel-item::after {content: \"\";width: 100%;border-bottom: 1px solid gray;flex-grow: 1;}#sk-container-id-4 div.sk-label:hover label.sk-toggleable__label {background-color: #d4ebff;}#sk-container-id-4 div.sk-serial::before {content: \"\";position: absolute;border-left: 1px solid gray;box-sizing: border-box;top: 0;bottom: 0;left: 50%;z-index: 0;}#sk-container-id-4 div.sk-serial {display: flex;flex-direction: column;align-items: center;background-color: white;padding-right: 0.2em;padding-left: 0.2em;position: relative;}#sk-container-id-4 div.sk-item {position: relative;z-index: 1;}#sk-container-id-4 div.sk-parallel {display: flex;align-items: stretch;justify-content: center;background-color: white;position: relative;}#sk-container-id-4 div.sk-item::before, #sk-container-id-4 div.sk-parallel-item::before {content: \"\";position: absolute;border-left: 1px solid gray;box-sizing: border-box;top: 0;bottom: 0;left: 50%;z-index: -1;}#sk-container-id-4 div.sk-parallel-item {display: flex;flex-direction: column;z-index: 1;position: relative;background-color: white;}#sk-container-id-4 div.sk-parallel-item:first-child::after {align-self: flex-end;width: 50%;}#sk-container-id-4 div.sk-parallel-item:last-child::after {align-self: flex-start;width: 50%;}#sk-container-id-4 div.sk-parallel-item:only-child::after {width: 0;}#sk-container-id-4 div.sk-dashed-wrapped {border: 1px dashed gray;margin: 0 0.4em 0.5em 0.4em;box-sizing: border-box;padding-bottom: 0.4em;background-color: white;}#sk-container-id-4 div.sk-label label {font-family: monospace;font-weight: bold;display: inline-block;line-height: 1.2em;}#sk-container-id-4 div.sk-label-container {text-align: center;}#sk-container-id-4 div.sk-container {/* jupyter's `normalize.less` sets `[hidden] { display: none; }` but bootstrap.min.css set `[hidden] { display: none !important; }` so we also need the `!important` here to be able to override the default hidden behavior on the sphinx rendered scikit-learn.org. See: https://github.com/scikit-learn/scikit-learn/issues/21755 */display: inline-block !important;position: relative;}#sk-container-id-4 div.sk-text-repr-fallback {display: none;}</style><div id=\"sk-container-id-4\" class=\"sk-top-container\"><div class=\"sk-text-repr-fallback\"><pre>KNeighborsClassifier()</pre><b>In a Jupyter environment, please rerun this cell to show the HTML representation or trust the notebook. <br />On GitHub, the HTML representation is unable to render, please try loading this page with nbviewer.org.</b></div><div class=\"sk-container\" hidden><div class=\"sk-item\"><div class=\"sk-estimator sk-toggleable\"><input class=\"sk-toggleable__control sk-hidden--visually\" id=\"sk-estimator-id-4\" type=\"checkbox\" checked><label for=\"sk-estimator-id-4\" class=\"sk-toggleable__label sk-toggleable__label-arrow\">KNeighborsClassifier</label><div class=\"sk-toggleable__content\"><pre>KNeighborsClassifier()</pre></div></div></div></div></div>"
      ],
      "text/plain": [
       "KNeighborsClassifier()"
      ]
     },
     "execution_count": 34,
     "metadata": {},
     "output_type": "execute_result"
    }
   ],
   "source": [
    "knn_clf = KNeighborsClassifier()\n",
    "knn_clf.fit(X_train, y_train)"
   ]
  },
  {
   "cell_type": "code",
   "execution_count": 35,
   "id": "76d416fc",
   "metadata": {},
   "outputs": [
    {
     "name": "stdout",
     "output_type": "stream",
     "text": [
      "[0.82083333 0.83541667 0.83541667 0.81041667 0.72708333]\n"
     ]
    },
    {
     "data": {
      "text/plain": [
       "0.8058333333333334"
      ]
     },
     "execution_count": 35,
     "metadata": {},
     "output_type": "execute_result"
    }
   ],
   "source": [
    "# Cross validation scores with K-Neighbors Classifier\n",
    "knn_clf_scores = crossValScores(knn_clf, X_train, y_train)\n",
    "print(knn_clf_scores)\n",
    "knn_clf_scores.mean()"
   ]
  },
  {
   "cell_type": "code",
   "execution_count": 36,
   "id": "6cc29d21",
   "metadata": {},
   "outputs": [
    {
     "name": "stdout",
     "output_type": "stream",
     "text": [
      "Precision = 0.46289\n",
      "Recall = 0.90418\n",
      "[[1566  427]\n",
      " [  39  368]]\n"
     ]
    },
    {
     "data": {
      "image/png": "[encoded data removed]",
      "text/plain": [
       "<Figure size 480x480 with 1 Axes>"
      ]
     },
     "metadata": {},
     "output_type": "display_data"
    }
   ],
   "source": [
    "# Assess the performance of K-Neighbors Classifier using cross_val_predict and confusion matrix\n",
    "knn_clf_perf = AssessModel(knn_clf, X_train, y_train)\n",
    "knn_clf_perf.cvp()\n",
    "print(knn_clf_perf.precision())\n",
    "print(knn_clf_perf.recall())\n",
    "knn_clf_perf.plotConfMat()"
   ]
  },
  {
   "cell_type": "markdown",
   "id": "bf6e42ae",
   "metadata": {},
   "source": [
    "Ouch! The K-Neighbors classifier achieves a paltry precision of ~46% on the training set. While no hyperparameter tuning has been implemented here, the default performance is quite discouraging."
   ]
  },
  {
   "cell_type": "markdown",
   "id": "9271fc38",
   "metadata": {},
   "source": [
    "# Using Best Model, make predictions for test set #"
   ]
  },
  {
   "cell_type": "code",
   "execution_count": 37,
   "id": "eba32501",
   "metadata": {},
   "outputs": [
    {
     "name": "stdout",
     "output_type": "stream",
     "text": [
      "0.9983333333333333\n",
      "0.9893617021276596\n",
      "1.0\n"
     ]
    }
   ],
   "source": [
    "models_trained = [tree_clf, sgd_clf, svm_clf,knn_clf]\n",
    "\n",
    "y_test_pred = tree_clf.predict(X_test)\n",
    "print(accuracy_score(y_test, y_test_pred))\n",
    "print(precision_score(y_test, y_test_pred))\n",
    "print(recall_score(y_test, y_test_pred))"
   ]
  },
  {
   "cell_type": "code",
   "execution_count": 38,
   "id": "32c0d8ba",
   "metadata": {},
   "outputs": [
    {
     "name": "stdout",
     "output_type": "stream",
     "text": [
      "For model DECISIONTREECLASSIFIER(RANDOM_STATE=10)\n",
      "   Precision = 98.94%\n",
      "   Recall    = 100.00%\n",
      "For model SGDCLASSIFIER(RANDOM_STATE=10)\n",
      "   Precision = 98.86%\n",
      "   Recall    = 93.55%\n",
      "For model SVC(RANDOM_STATE=10)\n",
      "   Precision = 98.75%\n",
      "   Recall    = 84.95%\n",
      "For model KNEIGHBORSCLASSIFIER()\n",
      "   Precision = 50.62%\n",
      "   Recall    = 87.10%\n"
     ]
    }
   ],
   "source": [
    "# For completeness, let's print the precision and recall for all models trained\n",
    "for m in models_trained:\n",
    "    y_test_pred_ = m.predict(X_test)\n",
    "    print(\"For model %s\"%str(m).upper())\n",
    "    print(\"   Precision = {:.2f}%\".format(100*precision_score(y_test, y_test_pred_)))\n",
    "    print(\"   Recall    = {:.2f}%\".format(100*recall_score(y_test, y_test_pred_)))"
   ]
  },
  {
   "cell_type": "markdown",
   "id": "aedf8497",
   "metadata": {},
   "source": [
    "### While the Decision Tree Regressor performed the best among the models considered (w/o hyperparameter tuning), the lack of any false negative predictions is dubious... ###"
   ]
  },
  {
   "cell_type": "code",
   "execution_count": null,
   "id": "ed2f3fa3",
   "metadata": {},
   "outputs": [],
   "source": []
  }
 ],
 "metadata": {
  "kernelspec": {
   "display_name": "Python 3 (ipykernel)",
   "language": "python",
   "name": "python3"
  },
  "language_info": {
   "codemirror_mode": {
    "name": "ipython",
    "version": 3
   },
   "file_extension": ".py",
   "mimetype": "text/x-python",
   "name": "python",
   "nbconvert_exporter": "python",
   "pygments_lexer": "ipython3",
   "version": "3.10.12"
  }
 },
 "nbformat": 4,
 "nbformat_minor": 5
}
